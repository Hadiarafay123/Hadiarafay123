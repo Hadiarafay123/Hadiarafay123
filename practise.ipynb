{
  "nbformat": 4,
  "nbformat_minor": 0,
  "metadata": {
    "colab": {
      "provenance": [],
      "authorship_tag": "ABX9TyMvQVghuAMULpDX9guoNia6",
      "include_colab_link": true
    },
    "kernelspec": {
      "name": "python3",
      "display_name": "Python 3"
    },
    "language_info": {
      "name": "python"
    }
  },
  "cells": [
    {
      "cell_type": "markdown",
      "metadata": {
        "id": "view-in-github",
        "colab_type": "text"
      },
      "source": [
        "<a href=\"https://colab.research.google.com/github/Hadiarafay123/Hadiarafay123/blob/main/practise.ipynb\" target=\"_parent\"><img src=\"https://colab.research.google.com/assets/colab-badge.svg\" alt=\"Open In Colab\"/></a>"
      ]
    },
    {
      "cell_type": "code",
      "source": [
        "name=\"Hadia\"\n",
        "print(\"my name is\", name)"
      ],
      "metadata": {
        "colab": {
          "base_uri": "https://localhost:8080/"
        },
        "id": "RypBlg1mOW3p",
        "outputId": "c3b2be6c-760f-4a89-d908-d74719e9f394"
      },
      "execution_count": 11,
      "outputs": [
        {
          "output_type": "stream",
          "name": "stdout",
          "text": [
            "my name is Hadia\n"
          ]
        }
      ]
    },
    {
      "cell_type": "code",
      "source": [
        "name=\"hadia\"\n",
        "age=\"27\"\n",
        "print(\"my name is\", name)\n",
        "print(\"my age is\", age)"
      ],
      "metadata": {
        "colab": {
          "base_uri": "https://localhost:8080/"
        },
        "id": "ouF49kdcO3v-",
        "outputId": "aa3e33d5-51e7-4035-86c8-b7652ee9d0f6"
      },
      "execution_count": 12,
      "outputs": [
        {
          "output_type": "stream",
          "name": "stdout",
          "text": [
            "my name is hadia\n",
            "my age is 27\n"
          ]
        }
      ]
    },
    {
      "cell_type": "code",
      "source": [
        "colours=[\"red\", \"green\", \"yellow\"]\n",
        "for colour in colours:\n",
        "    print(\"i like\", colour)"
      ],
      "metadata": {
        "colab": {
          "base_uri": "https://localhost:8080/"
        },
        "id": "igVLqF6pPJeV",
        "outputId": "f7b8a6aa-47cb-424c-9f85-dcb383772861"
      },
      "execution_count": 18,
      "outputs": [
        {
          "output_type": "stream",
          "name": "stdout",
          "text": [
            "i like red\n",
            "i like green\n",
            "i like yellow\n"
          ]
        }
      ]
    },
    {
      "cell_type": "code",
      "source": [
        "i=1\n",
        "while i<=10:\n",
        "  print(\"counting\", i)\n",
        "  i+=1"
      ],
      "metadata": {
        "colab": {
          "base_uri": "https://localhost:8080/"
        },
        "id": "8rc_CeI4UQDU",
        "outputId": "2f881318-d947-499f-b911-9370fc69ca64"
      },
      "execution_count": 20,
      "outputs": [
        {
          "output_type": "stream",
          "name": "stdout",
          "text": [
            "counting 1\n",
            "counting 2\n",
            "counting 3\n",
            "counting 4\n",
            "counting 5\n",
            "counting 6\n",
            "counting 7\n",
            "counting 8\n",
            "counting 9\n",
            "counting 10\n"
          ]
        }
      ]
    },
    {
      "cell_type": "code",
      "source": [
        "pet=\"Bella\"\n",
        "print(\"my cat name is\", pet)"
      ],
      "metadata": {
        "colab": {
          "base_uri": "https://localhost:8080/"
        },
        "id": "7u2C1BS2UqjG",
        "outputId": "020f3d36-8b26-426f-aadf-c66481cb6869"
      },
      "execution_count": 21,
      "outputs": [
        {
          "output_type": "stream",
          "name": "stdout",
          "text": [
            "my cat name is Bella\n"
          ]
        }
      ]
    },
    {
      "cell_type": "code",
      "source": [
        "pet=\"icey\"\n",
        "cat=\"george\"\n",
        "print(\"my cat name is\", pet)\n",
        "print(\"my cat name is\", cat)"
      ],
      "metadata": {
        "colab": {
          "base_uri": "https://localhost:8080/"
        },
        "id": "dkZcaxU5UzRY",
        "outputId": "82df1b0c-3742-4047-dca1-5681c7164f42"
      },
      "execution_count": 22,
      "outputs": [
        {
          "output_type": "stream",
          "name": "stdout",
          "text": [
            "my cat name is icey\n",
            "my cat name is george\n"
          ]
        }
      ]
    },
    {
      "cell_type": "code",
      "source": [
        "fruits=[\"melon\", \"orange\", \"apples\"]\n",
        "print(fruits[0])\n",
        "print(fruits[1])\n",
        "print(fruits[2])"
      ],
      "metadata": {
        "colab": {
          "base_uri": "https://localhost:8080/"
        },
        "id": "DpxN3CDWU8Jm",
        "outputId": "156af2a8-e77e-4ea4-eaf0-aa02ff79d093"
      },
      "execution_count": 24,
      "outputs": [
        {
          "output_type": "stream",
          "name": "stdout",
          "text": [
            "melon\n",
            "orange\n",
            "apples\n"
          ]
        }
      ]
    },
    {
      "cell_type": "code",
      "source": [
        "fruits=[\"melon\", \"orange\", \"apples\"]\n",
        "for fruit in fruits:\n",
        "    print(\"i like\", fruit)\n",
        ""
      ],
      "metadata": {
        "colab": {
          "base_uri": "https://localhost:8080/"
        },
        "id": "zjVFgAGGVJNi",
        "outputId": "c63ef8dd-51ed-447a-9f2f-b369583bbb10"
      },
      "execution_count": 25,
      "outputs": [
        {
          "output_type": "stream",
          "name": "stdout",
          "text": [
            "i like melon\n",
            "i like orange\n",
            "i like apples\n"
          ]
        }
      ]
    },
    {
      "cell_type": "code",
      "source": [
        "j=10\n",
        "while j<=20:\n",
        "    print(\"counting\", j)\n",
        "    j+=1"
      ],
      "metadata": {
        "colab": {
          "base_uri": "https://localhost:8080/"
        },
        "id": "AjqEdHlFVQqz",
        "outputId": "8ec246e2-14bd-46fd-bac4-eb8a8ab5077a"
      },
      "execution_count": 26,
      "outputs": [
        {
          "output_type": "stream",
          "name": "stdout",
          "text": [
            "counting 10\n",
            "counting 11\n",
            "counting 12\n",
            "counting 13\n",
            "counting 14\n",
            "counting 15\n",
            "counting 16\n",
            "counting 17\n",
            "counting 18\n",
            "counting 19\n",
            "counting 20\n"
          ]
        }
      ]
    }
  ]
}